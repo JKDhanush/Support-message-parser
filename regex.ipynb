{
 "cells": [
  {
   "cell_type": "code",
   "execution_count": 2,
   "id": "e71c83a1-656d-442b-ac02-79eb95b23cb0",
   "metadata": {},
   "outputs": [],
   "source": [
    "import re"
   ]
  },
  {
   "cell_type": "code",
   "execution_count": 3,
   "id": "f13ce9d3-e3bc-4af3-b2a5-fe88015ae17f",
   "metadata": {},
   "outputs": [],
   "source": [
    "chat1='codebasics::you-ask-lot-of-questions-😉-1235678912,.abc@xyz.com'\n",
    "chat2='codebasics::here-it-is:(123)-567-8912,.abc@xyz.com'\n",
    "chat3='codebasics::yes,phone:1235678912-email:.abc@xyz.com'"
   ]
  },
  {
   "cell_type": "code",
   "execution_count": 11,
   "id": "1376ada5-61fb-47ab-ba83-d984f01905e5",
   "metadata": {},
   "outputs": [
    {
     "data": {
      "text/plain": [
       "['(123)-567-8912']"
      ]
     },
     "execution_count": 11,
     "metadata": {},
     "output_type": "execute_result"
    }
   ],
   "source": [
    "pattern = r\"\\d{10}|\\(\\d{3}\\)-\\d{3}-\\d{4}\"\n",
    "matches = re.findall(pattern, chat2)\n",
    "matches"
   ]
  },
  {
   "cell_type": "code",
   "execution_count": 20,
   "id": "57ba3f4b-2ffd-44bf-8212-e27a5a83d68f",
   "metadata": {},
   "outputs": [
    {
     "data": {
      "text/plain": [
       "['abc@xyz.com']"
      ]
     },
     "execution_count": 20,
     "metadata": {},
     "output_type": "execute_result"
    }
   ],
   "source": [
    "pattern = \"[a-z|0-9|A-Z|_]*@[a-z|0-9|A-Z|_]*.com\"\n",
    "email = re.findall(pattern, chat1)\n",
    "email"
   ]
  },
  {
   "cell_type": "code",
   "execution_count": 21,
   "id": "79bbfad4-e7a4-44c4-97a0-201e4206984d",
   "metadata": {},
   "outputs": [],
   "source": [
    "chat1='codebasics: Hello, I am having an issue with my order # 412889912'\n",
    "chat2='codebasics: I have a problem with my order number 412889912'\n",
    "chat3='codebasics: My order 412889912 is having an issue, I was charged 300$ when online it says 280$'"
   ]
  },
  {
   "cell_type": "code",
   "execution_count": 23,
   "id": "2f6212ec-4cfb-4b83-8843-d77f5520cb0b",
   "metadata": {},
   "outputs": [
    {
     "data": {
      "text/plain": [
       "['412889912']"
      ]
     },
     "execution_count": 23,
     "metadata": {},
     "output_type": "execute_result"
    }
   ],
   "source": [
    "pattern = r\"order[^\\d]*(\\d*)\"\n",
    "order_num = re.findall(pattern, chat1)\n",
    "order_num"
   ]
  },
  {
   "cell_type": "code",
   "execution_count": 25,
   "id": "c898049d-10b1-4e3b-ba96-79ac12cb2706",
   "metadata": {},
   "outputs": [],
   "source": [
    "text = '''\n",
    "Born - Elon Reeve Musk\n",
    "June 28, 1971 (age 50)\n",
    "Pretoria, Transvaal, South Africa\n",
    "Citizenship*\n",
    "South Africa (1971–present)\n",
    "Canada (1971–present)\n",
    "United States (2002–present)\n",
    "Education - University of Pennsylvania (BS, BA)\n",
    "Title -\n",
    "Founder, CEO and Chief Engineer of SpaceX\n",
    "CEO and product architect of Tesla, Inc.\n",
    "Founder of The Boring Company and X.com (now part of PayPal)\n",
    "Co-founder of Neuralink, OpenAI, and Zip2\n",
    "Spouse(s) -\n",
    "Justine Wilson\n",
    "(m. 2000; div. 2008)-\n",
    "Talulah Riley \n",
    "'''"
   ]
  },
  {
   "cell_type": "code",
   "execution_count": 28,
   "id": "30ab7d09-2459-402b-a931-ff2d467fef3f",
   "metadata": {},
   "outputs": [
    {
     "data": {
      "text/plain": [
       "['50']"
      ]
     },
     "execution_count": 28,
     "metadata": {},
     "output_type": "execute_result"
    }
   ],
   "source": [
    "pattern = r\"age (\\d+)\"\n",
    "age = re.findall(pattern, text)\n",
    "age"
   ]
  },
  {
   "cell_type": "code",
   "execution_count": 34,
   "id": "1a3a7a92-df72-4c73-a631-34642b59ed18",
   "metadata": {},
   "outputs": [
    {
     "data": {
      "text/plain": [
       "['Elon Reeve Musk']"
      ]
     },
     "execution_count": 34,
     "metadata": {},
     "output_type": "execute_result"
    }
   ],
   "source": [
    "pattern = \"Born - (.*)\"\n",
    "Name = re.findall(pattern, text)\n",
    "Name"
   ]
  },
  {
   "cell_type": "code",
   "execution_count": 36,
   "id": "0b77ed9e-29e2-4e61-870b-4a4ead4bcc21",
   "metadata": {},
   "outputs": [
    {
     "data": {
      "text/plain": [
       "['June 28, 1971 ']"
      ]
     },
     "execution_count": 36,
     "metadata": {},
     "output_type": "execute_result"
    }
   ],
   "source": [
    "pattern = r\"Born.*\\n(.*)\\(age\"\n",
    "DOB = re.findall(pattern, text)\n",
    "DOB"
   ]
  },
  {
   "cell_type": "code",
   "execution_count": 37,
   "id": "b1363309-8f32-4cb6-913b-c22add7413fa",
   "metadata": {},
   "outputs": [
    {
     "data": {
      "text/plain": [
       "['Pretoria, Transvaal, South Africa']"
      ]
     },
     "execution_count": 37,
     "metadata": {},
     "output_type": "execute_result"
    }
   ],
   "source": [
    "pattern = r\"age.*\\n(.*)\"\n",
    "BirthPlace = re.findall(pattern, text)\n",
    "BirthPlace"
   ]
  },
  {
   "cell_type": "code",
   "execution_count": 38,
   "id": "8f3c84d4-7d70-404b-9984-3bacdeace78a",
   "metadata": {},
   "outputs": [],
   "source": [
    "def get_pattern_match(pattern, text):\n",
    "    matches = re.findall(pattern, text)\n",
    "    if matches:\n",
    "        return matches[0]"
   ]
  },
  {
   "cell_type": "code",
   "execution_count": 39,
   "id": "fde2be7e-b1f1-40d1-b67c-c98fc1841ff6",
   "metadata": {},
   "outputs": [
    {
     "data": {
      "text/plain": [
       "'June 28, 1971 '"
      ]
     },
     "execution_count": 39,
     "metadata": {},
     "output_type": "execute_result"
    }
   ],
   "source": [
    "get_pattern_match(r\"Born.*\\n(.*)\\(age\", text)"
   ]
  },
  {
   "cell_type": "code",
   "execution_count": 42,
   "id": "59297a4b-98f2-4536-bb92-b4bef57a1f13",
   "metadata": {},
   "outputs": [],
   "source": [
    "def get_personal_info(text):\n",
    "    age = get_pattern_match(r\"age (\\d+)\", text)\n",
    "    full_name = get_pattern_match(\"Born - (.*)\", text)\n",
    "    DOB = get_pattern_match(r\"Born.*\\n(.*)\\(age\", text)\n",
    "    birth_place = get_pattern_match( r\"age.*\\n(.*)\", text)\n",
    "\n",
    "    return {\n",
    "        \"age\": int(age),\n",
    "        \"name\": full_name,\n",
    "        \"DOB\": DOB,\n",
    "        \"birth_place\": birth_place\n",
    "    }"
   ]
  },
  {
   "cell_type": "code",
   "execution_count": 43,
   "id": "563fc86c-44cd-4007-9600-1e998b958842",
   "metadata": {},
   "outputs": [
    {
     "data": {
      "text/plain": [
       "{'age': 50,\n",
       " 'name': 'Elon Reeve Musk',\n",
       " 'DOB': 'June 28, 1971 ',\n",
       " 'birth_place': 'Pretoria, Transvaal, South Africa'}"
      ]
     },
     "execution_count": 43,
     "metadata": {},
     "output_type": "execute_result"
    }
   ],
   "source": [
    "get_personal_info(text)"
   ]
  },
  {
   "cell_type": "code",
   "execution_count": null,
   "id": "e2b662e0-cadd-4ed0-949a-181eff9818c7",
   "metadata": {},
   "outputs": [],
   "source": []
  }
 ],
 "metadata": {
  "kernelspec": {
   "display_name": "Python 3 (ipykernel)",
   "language": "python",
   "name": "python3"
  },
  "language_info": {
   "codemirror_mode": {
    "name": "ipython",
    "version": 3
   },
   "file_extension": ".py",
   "mimetype": "text/x-python",
   "name": "python",
   "nbconvert_exporter": "python",
   "pygments_lexer": "ipython3",
   "version": "3.13.1"
  }
 },
 "nbformat": 4,
 "nbformat_minor": 5
}
